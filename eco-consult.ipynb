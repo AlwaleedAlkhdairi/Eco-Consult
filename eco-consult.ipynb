{
 "cells": [
  {
   "cell_type": "code",
   "execution_count": null,
   "id": "b623e09a",
   "metadata": {},
   "outputs": [],
   "source": [
    "from transformers import GPT2Tokenizer, TFGPT2LMHeadModel\n",
    "\n",
    "# Load pre-trained model and tokenizer\n",
    "model_name = 'gpt2'\n",
    "tokenizer = GPT2Tokenizer.from_pretrained(model_name)\n",
    "model = TFGPT2LMHeadModel.from_pretrained(model_name)\n",
    "\n",
    "# Encode input text\n",
    "input_text = \"WHAT ARE THE LEGAL PROCEDURES TO MARKET ON SOCIAL MEDIA PLATFORMS?\"\n",
    "input_ids = tokenizer.encode(input_text, return_tensors='tf')\n",
    "\n",
    "# Generate a response\n",
    "output = model.generate(input_ids, max_length=50, num_return_sequences=1)\n",
    "\n",
    "# Decode and print the response\n",
    "response = tokenizer.decode(output[0], skip_special_tokens=True)\n",
    "print(\"Response:\", response)"
   ]
  },
  {
   "cell_type": "markdown",
   "id": "97278fc6",
   "metadata": {},
   "source": [
    "##### Response: When marketing on social media platforms in Saudi Arabia, you must comply with the following legal procedures:\n",
    "\n",
    "- 1.Advertising Regulations: Ensure that your advertisements are honest, clear, and not misleading.\n",
    "- 2.Consumer Protection Laws: Adhere to laws protecting consumer rights and product safety.\n",
    "- 3.Cybercrime Law: Avoid defamation, invasion of privacy, and offensive content.\n",
    "- 4.E-Commerce Law: Follow regulations related to online sales, including consumer rights and data protection.\n",
    "- 5.Content Guidelines: Respect cultural values and avoid content that could be considered offensive or promoting illegal activities.\n",
    "- 6.Permits and Licenses: Obtain any necessary permits or licenses for your specific business activities.\n",
    "Always stay updated with the latest regulations and consider seeking legal advice to ensure compliance. `"
   ]
  },
  {
   "cell_type": "code",
   "execution_count": 26,
   "id": "d6f9dfc3",
   "metadata": {},
   "outputs": [
    {
     "name": "stderr",
     "output_type": "stream",
     "text": [
      "All PyTorch model weights were used when initializing TFGPT2LMHeadModel.\n",
      "\n",
      "All the weights of TFGPT2LMHeadModel were initialized from the PyTorch model.\n",
      "If your task is similar to the task the model of the checkpoint was trained on, you can already use TFGPT2LMHeadModel for predictions without further training.\n",
      "The attention mask and the pad token id were not set. As a consequence, you may observe unexpected behavior. Please pass your input's `attention_mask` to obtain reliable results.\n",
      "Setting `pad_token_id` to `eos_token_id`:50256 for open-end generation.\n"
     ]
    },
    {
     "name": "stdout",
     "output_type": "stream",
     "text": [
      "Response: is legal to market in saudi arabia?\n",
      "\n",
      "The answer is yes. The law is clear: saudi arabia is legal to market in saudi arabia.\n",
      "\n",
      "The law is clear: saudi arab\n"
     ]
    }
   ],
   "source": [
    "from transformers import GPT2Tokenizer, TFGPT2LMHeadModel\n",
    "\n",
    "# Load pre-trained model and tokenizer\n",
    "model_name = 'gpt2'\n",
    "tokenizer = GPT2Tokenizer.from_pretrained(model_name)\n",
    "model = TFGPT2LMHeadModel.from_pretrained(model_name)\n",
    "\n",
    "# Encode input text\n",
    "input_text = \"is legal to market in saudi arabia?\"\n",
    "input_ids = tokenizer.encode(input_text, return_tensors='tf')\n",
    "\n",
    "# Generate a response\n",
    "output = model.generate(input_ids, max_length=50, num_return_sequences=1)\n",
    "\n",
    "# Decode and print the response\n",
    "response = tokenizer.decode(output[0], skip_special_tokens=True)\n",
    "print(\"Response:\", response)"
   ]
  }
 ],
 "metadata": {
  "kernelspec": {
   "display_name": "Python 3 (ipykernel)",
   "language": "python",
   "name": "python3"
  },
  "language_info": {
   "codemirror_mode": {
    "name": "ipython",
    "version": 3
   },
   "file_extension": ".py",
   "mimetype": "text/x-python",
   "name": "python",
   "nbconvert_exporter": "python",
   "pygments_lexer": "ipython3",
   "version": "3.7.16"
  }
 },
 "nbformat": 4,
 "nbformat_minor": 5
}
